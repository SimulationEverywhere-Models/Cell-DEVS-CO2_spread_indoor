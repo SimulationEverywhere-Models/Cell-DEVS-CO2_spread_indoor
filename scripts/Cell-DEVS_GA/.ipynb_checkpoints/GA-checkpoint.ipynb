{
 "cells": [
  {
   "cell_type": "markdown",
   "id": "e5d53afc-b80f-43a0-8f41-49f6981dfdaa",
   "metadata": {},
   "source": [
    "**Purpose:** using a Genetic Algorithm (GA) to find optimal configuration settings for closed spaces using indoor spatioal Cell-DEVS models.\n",
    "\n",
    "**Project:** CO2 dispersion\n",
    "\n",
    "This file uses:\n",
    "- the ScenariosGenerator class to generate different scenarios for CO2 models.\n",
    "- Pypi geneticalgorithm library.\n",
    "- Cadmium simulator."
   ]
  },
  {
   "cell_type": "markdown",
   "id": "2474de92-508f-408f-a801-355814bd3218",
   "metadata": {},
   "source": [
    "**To run this code:**\n",
    "- install Cadmium (https://github.com/SimulationEverywhere-Models/Cell-DEVS-CO2_spread_indoor/blob/master/User%20Manual.txt)\n",
    "- clone https://github.com/staubibr/arslab-converter to be in the same directory as the scripts under Cell-DEVS_GA\n",
    "- compile computer_lab_infection Cell-DEVS model using the cmake and make as explained in the manual\n",
    "- export ga.ipuynb and generator.ipynb as executable scripts\n",
    "- from Ubuntu shell of the same directory: (1) make sure there is a results dirctory and (2) run the generated script \"python3 ga.py\"\n",
    "- the output of the GA will be in GA_ouput.json: e.g., [9.0, 8.0, 7.0, 7.0] is the list of values for an objective function for 4 iterations of the GA"
   ]
  },
  {
   "cell_type": "code",
   "execution_count": 21,
   "id": "83d32e68-8cfa-40a5-a0fc-62a80f516634",
   "metadata": {},
   "outputs": [],
   "source": [
    "import numpy as np\n",
    "from geneticalgorithm import geneticalgorithm as ga\n",
    "from generator import ScenariosGenerator\n",
    "\n",
    "#for running Cadmium\n",
    "import os\n",
    "import subprocess\n",
    "\n",
    "#for using ArsLab parser to read the log file\n",
    "import sys\n",
    "sys.path.append('./arslab-converter')\n",
    "from parsers.cadmium.structure import CadmiumStructure\n",
    "from parsers.cadmium.state import CadmiumState\n",
    "from formats.format import Format\n",
    "\n",
    "#for storing GA results and others\n",
    "import json\n"
   ]
  },
  {
   "cell_type": "code",
   "execution_count": 3,
   "id": "f4ae9861-5889-498b-ab67-fe4b01d43062",
   "metadata": {},
   "outputs": [],
   "source": [
    "# Function: get_exposed_occupants\n",
    "# Purpose: extracts the required data from the log files (That is the the number of occupants who are at higher risk by the end of simulation)\n",
    "# Arguments: log_File: the log file Carmium produce as a result of the simulation (\"state.txt\")\n",
    "# Return:\n",
    "    #occupants_at_risk: the number of occupants who are of type EXPOSED_CO2_SOURCE = -250\n",
    "        \n",
    "def get_exposed_occupants(log_file):\n",
    "\n",
    "    EXPOSED_CO2_SOURCE = -250   #The function could be modified to be more general. \n",
    "                                #In this case this valud could be read from config or added as an argument.\n",
    "    \n",
    "    log_file = \"results/\" + log_file\n",
    "    \n",
    "    #in the case of an invalid log_file return -1 \n",
    "    if (not os.path.isfile(log_file)) or (log_file.find(\"state\") == -1):\n",
    "        return -1\n",
    "    \n",
    "    frame_index = 0\n",
    "    parsing_files = [\"structure.json\", log_file]\n",
    "    structure = CadmiumStructure().parse(parsing_files)\n",
    "    messages = CadmiumState(structure).parse(parsing_files)\n",
    "\n",
    "    #Get the number of different time frames we have\n",
    "    number_of_frames = messages.size()\n",
    "    occupants_at_risk = 0\n",
    "    \n",
    "    #get the last time frame to know the numbe rof sick occupants at the end of simulation\n",
    "    frame = messages.get_frame(str(number_of_frames-1))\n",
    "    \n",
    "    #loop on the timeframes in each file\n",
    "    occupants_at_risk = 0\n",
    "    #loop on all the messages at each timeframe \n",
    "    for message in frame:\n",
    "        if( int(message.values[2]) == EXPOSED_CO2_SOURCE ):\n",
    "            occupants_at_risk = occupants_at_risk + 1\n",
    "        \n",
    "    return occupants_at_risk"
   ]
  },
  {
   "cell_type": "code",
   "execution_count": 9,
   "id": "2632fc2a-b5ce-49e7-98f1-fc10657840e5",
   "metadata": {},
   "outputs": [],
   "source": [
    "# Function: evlauate_vent_loc\n",
    "# Purpose: (1) uses ScearioGenerator class to generate a JSON CO2 scenario using the list of vent_loc argument, \n",
    "            #(2) calls cadmium to run the simulator,\n",
    "            #(3) calls get_exposed_occupants to find the number of occupants who are at risk by the end of simulation.\n",
    "# Arguments: vent_loc: an numpy array of values sent by the calling GA. For example, vent_loc[0] and vent_loc[1] are the xy coordinates of the first vent.\n",
    "# Return:\n",
    "    #occupants_at_risk: the number of occupants who are of type EXPOSED_CO2_SOURCE = -250\n",
    "    \n",
    "#a global dictionary where the number of exposed occupants for all simulated scenarios is stored. \n",
    "#The purpose of this is to avoid running the simulation again for a json scenario with vent_loc that has been used again.\n",
    "\n",
    "vent_results_database = dict()\n",
    "\n",
    "def evlauate_vent_loc(vent_loc):\n",
    "    global vent_results_database\n",
    "    \n",
    "    #if the scenario with this vent location has been simulated before\n",
    "    #do not simulate again\n",
    "    #return the number of exposed occupants stored from previous simulation\n",
    "    if str(vent_loc) in vent_results_database:\n",
    "        return vent_results_database[str(vent_loc)]\n",
    "    \n",
    "    output_file = \"state.txt\"\n",
    "    #generate a scenario with this vent location\n",
    "    #the ScenariosGenerator reads configurations such as initial scenario name, vet size, vent concentration, etc from a configuration file\n",
    "    generator = ScenariosGenerator(\"in/config.json\")\n",
    "    scenario_name = generator.create_vent_scenario(vent_loc)\n",
    "\n",
    "    #run the simulation\n",
    "    #this could also be read froma config file in future versions\n",
    "    model_path = \"../../computer_lab_infection/bin/co2_lab\"\n",
    "    ensure\n",
    "    scenarios_path = \"out/\" + scenario_name\n",
    "\n",
    "    if os.path.isfile(scenarios_path):\n",
    "        #create results directory #the simulator expects a directory named \"results\" to be available.\n",
    "        #call simulator\n",
    "        subprocess.check_call([model_path, scenarios_path])\n",
    "        \n",
    "        #read the log to get the number of occupants exposed to high CO2 for a long time\n",
    "        #and therefore are at risk of getting infected!\n",
    "        exposed_occupants = get_exposed_occupants(output_file)\n",
    "\n",
    "    #print(\"number of sick occuapnst:\" + str(exposed_occupants) +\",scenrio name: \" + scenario_name)\n",
    "\n",
    "    vent_results_database[str(vent_loc)] = exposed_occupants    \n",
    "\n",
    "    return exposed_occupants"
   ]
  },
  {
   "cell_type": "code",
   "execution_count": 10,
   "id": "6c63314e-3e1c-452c-91ac-ce6bf6b9b821",
   "metadata": {},
   "outputs": [],
   "source": [
    "# Function: ga_vents\n",
    "# Purpose: Runs the Genetic Algorithm to find best ventilation lcoations.\n",
    "    #this function is built for a specific scenario. We can make it more general by reading the variables boundaries from a config file.\n",
    "\n",
    "def ga_vents():\n",
    "    #We have three variables: x coord, y coord, and output\n",
    "    varbound=np.array([[4,19],[4,31],[4,19],[4,31],[4,19],[4,31],[4,19],[4,31]])\n",
    "    vartype=np.array([['int'],['int'],['int'],['int'],['int'],['int'],['int'],['int']])\n",
    "\n",
    "    algorithm_param = {'max_num_iteration': 5,'population_size':3,'mutation_probability':0.1,'elit_ratio': 0.01,'crossover_probability': 0.9, \n",
    "                       'parents_portion': 0.5,'crossover_type':'uniform','max_iteration_without_improv':15}\n",
    "\n",
    "    model = ga(function=evlauate_vent_loc,dimension=8,variable_type_mixed=vartype,variable_boundaries=varbound, \n",
    "               algorithm_parameters=algorithm_param, function_timeout=3600.0)\n",
    "\n",
    "    model.run()\n",
    "    \n",
    "    convergence= model.report\n",
    "    solution= model.output_dict\n",
    "\n",
    "    print(convergence)\n",
    "    print(solution)\n",
    "\n",
    "    json.dump( convergence, open( \"GA_Output.json\", 'a'))\n"
   ]
  },
  {
   "cell_type": "code",
   "execution_count": 11,
   "id": "877d93cb-a1e1-4de4-b63a-9e239977f33e",
   "metadata": {},
   "outputs": [],
   "source": [
    "# Function: evlauate_seating\n",
    "# Purpose: (1) uses ScearioGenerator class to generate a JSON CO2 scenario using the list of suggested occupants locations occupants_loc argument, \n",
    "            #(2) calls cadmium to run the simulator,\n",
    "            #(3) calls get_exposed_occupants to find the number of occupants who are at risk by the end of simulation.\n",
    "# Arguments: occupants_loc: an numpy array of values sent by the calling GA. For example, occupants_loc[0] and occupants_loc[1] are the xy coordinates of\n",
    "            #the first occupant.\n",
    "# Return:\n",
    "    #occupants_at_risk: the number of occupants who are of type EXPOSED_CO2_SOURCE = -250\n",
    "    \n",
    "#a global dictionary where the number of exposed occupants for all simulated scenarios is stored. \n",
    "#The purpose of this is to avoid running the simulation again for a json scenario with occupants_loc that has been used again.\n",
    "\n",
    "seats_results_database = dict()\n",
    "counter = 0\n",
    "\n",
    "def evlauate_seating(occupants_loc):\n",
    "    global seats_results_database\n",
    "    global counter\n",
    "    \n",
    "    #if the scenario with this vent location has been simulated before\n",
    "    #do not simulate again\n",
    "    #return the number of exposed occupants stored from previous simulation\n",
    "    if str(occupants_loc) in seats_results_database:\n",
    "        return seats_results_database[str(occupants_loc)]\n",
    "    \n",
    "    output_file = \"state.txt\"\n",
    "    #generate a scenario with this vent location\n",
    "    generator = ScenariosGenerator(\"in/config.json\")\n",
    "    counter = counter +1\n",
    "    scenario_name = generator.create_seats_scenario(occupants_loc, counter)\n",
    "\n",
    "    #run the simulation\n",
    "    model_path = \"../../computer_lab_infection/bin/co2_lab\"\n",
    "    scenarios_path = \"out/\" + scenario_name\n",
    "\n",
    "    if os.path.isfile(scenarios_path):\n",
    "        #create results directory #the simulator expects a directory named \"results\"\n",
    "        #ensure_dir(self.results_path)\n",
    "        #call simulator\n",
    "        subprocess.check_call([model_path, scenarios_path])\n",
    "        \n",
    "        #read the log to get the number of occupants exposed to high CO2 for a long time\n",
    "        #and therefore are at risk of getting infected!\n",
    "        exposed_occupants = get_exposed_occupants(output_file)\n",
    "    \n",
    "    #print(\"number of sick occuapnst:\" + str(exposed_occupants) +\",scenrio name: \" + scenario_name)\n",
    "    seats_results_database[str(occupants_loc)] = exposed_occupants    \n",
    "    \n",
    "    return exposed_occupants\n"
   ]
  },
  {
   "cell_type": "code",
   "execution_count": 19,
   "id": "ea3f8b7e-a841-41b5-b3fe-dcc378f37584",
   "metadata": {},
   "outputs": [],
   "source": [
    "# Function: ga_seats\n",
    "# Purpose: Runs the Genetic Algorithm to find best seating arrangement for occupants.\n",
    "    #this function is built for a specific scenario. We can make it more general by reading the variables boundaries from a config file.\n",
    "\n",
    "def ga_seats():\n",
    "\n",
    "    #assuming all occupants are placed 4 cells away from the boundaries of the model. These variable can be read from a config file if needed.\n",
    "    varbound=np.array([[4,19],[4,31],[4,19],[4,31],[4,19],[4,31],[4,19],[4,31],[4,19],[4,31],[4,19],[4,31],[4,19],[4,31],[4,19],[4,31],\n",
    "                       [4,19],[4,31],[4,19],[4,31], [4,19],[4,31],[4,19],[4,31],[4,19],[4,31],[4,19],[4,31],[4,19],[4,31],[4,19],[4,31],\n",
    "                       [4,19],[4,31],[4,19],[4,31],[4,19],[4,31],[4,19],[4,31],[4,19],[4,31],[4,19],[4,31],[4,19],[4,31],[4,19],[4,31],\n",
    "                       [4,19],[4,31]])\n",
    "                  \n",
    "    algorithm_param = {'max_num_iteration': 3,'population_size':5,'mutation_probability':0.1,'elit_ratio': 0.01,'crossover_probability': 0.9,\n",
    "                       'parents_portion': 0.5,'crossover_type':'uniform','max_iteration_without_improv':10}\n",
    "\n",
    "    model=ga(function=evlauate_seating,dimension=50,variable_type='int',variable_boundaries=varbound, algorithm_parameters=algorithm_param, \n",
    "             function_timeout=3600.0)\n",
    "\n",
    "    model.run()\n",
    "\n",
    "    convergence= model.report\n",
    "    solution= model.output_dict\n",
    "\n",
    "    print(convergence)\n",
    "    print(solution)\n",
    "\n",
    "    json.dump( convergence, open( \"GA_Output.json\", 'a'))"
   ]
  },
  {
   "cell_type": "code",
   "execution_count": 20,
   "id": "845f3fb5-1668-4627-9999-8f440f682ce5",
   "metadata": {},
   "outputs": [
    {
     "name": "stdout",
     "output_type": "stream",
     "text": [
      " The best solution found:                                                                           \n",
      " [11. 24. 17. 22. 11. 29. 13.  9. 18. 15.  9. 21. 13.  5.  4.  6. 18.  8.\n",
      "  9. 13. 14. 16. 18. 31.  4. 17. 16. 21. 17. 18. 16. 28.  4. 12.  6. 26.\n",
      " 17.  8. 12. 13. 15. 22. 13. 26. 15. 25. 14. 20. 10. 14.]\n",
      "\n",
      " Objective function:\n",
      " 10\n"
     ]
    },
    {
     "data": {
      "image/png": "[encoded data removed]",
      "text/plain": [
       "<Figure size 432x288 with 1 Axes>"
      ]
     },
     "metadata": {
      "needs_background": "light"
     },
     "output_type": "display_data"
    },
    {
     "name": "stdout",
     "output_type": "stream",
     "text": [
      "\n",
      "Warning: GA is terminated due to the maximum number of iterations without improvement was met![10.0, 10.0, 10.0, 10.0, 10.0, 10.0, 10.0, 10.0, 10.0, 10.0, 10.0, 10.0]\n",
      "{'variable': array([11., 24., 17., 22., 11., 29., 13.,  9., 18., 15.,  9., 21., 13.,\n",
      "        5.,  4.,  6., 18.,  8.,  9., 13., 14., 16., 18., 31.,  4., 17.,\n",
      "       16., 21., 17., 18., 16., 28.,  4., 12.,  6., 26., 17.,  8., 12.,\n",
      "       13., 15., 22., 13., 26., 15., 25., 14., 20., 10., 14.]), 'function': 10}\n"
     ]
    }
   ],
   "source": [
    "print(\"Case Study I: finding best seating arrangement\")\n",
    "ga_seats()"
   ]
  },
  {
   "cell_type": "code",
   "execution_count": 17,
   "id": "fca387b3-6fe7-497d-8d5c-bd239a1d09fb",
   "metadata": {},
   "outputs": [
    {
     "name": "stdout",
     "output_type": "stream",
     "text": [
      " The best solution found:                                                                           \n",
      " [ 7. 21. 16. 10. 16. 31. 15.  9.]\n",
      "\n",
      " Objective function:\n",
      " 10\n"
     ]
    },
    {
     "data": {
      "image/png": "[encoded data removed]",
      "text/plain": [
       "<Figure size 432x288 with 1 Axes>"
      ]
     },
     "metadata": {
      "needs_background": "light"
     },
     "output_type": "display_data"
    },
    {
     "name": "stdout",
     "output_type": "stream",
     "text": [
      "\n",
      "Warning: GA is terminated due to the maximum number of iterations without improvement was met![10.0, 10.0, 10.0, 10.0, 10.0, 10.0, 10.0, 10.0, 10.0, 10.0, 10.0, 10.0, 10.0, 10.0, 10.0, 10.0, 10.0]\n",
      "{'variable': array([ 7., 21., 16., 10., 16., 31., 15.,  9.]), 'function': 10}\n"
     ]
    }
   ],
   "source": [
    "print(\"Case Study II: finding best vents locations\")\n",
    "ga_vents()"
   ]
  },
  {
   "cell_type": "code",
   "execution_count": null,
   "id": "f98cf8db-c69a-459a-9bb4-d2909cdd5ba8",
   "metadata": {},
   "outputs": [],
   "source": []
  }
 ],
 "metadata": {
  "kernelspec": {
   "display_name": "Python 3",
   "language": "python",
   "name": "python3"
  },
  "language_info": {
   "codemirror_mode": {
    "name": "ipython",
    "version": 3
   },
   "file_extension": ".py",
   "mimetype": "text/x-python",
   "name": "python",
   "nbconvert_exporter": "python",
   "pygments_lexer": "ipython3",
   "version": "3.8.10"
  },
  "toc-autonumbering": true,
  "toc-showcode": false,
  "toc-showtags": true
 },
 "nbformat": 4,
 "nbformat_minor": 5
}
